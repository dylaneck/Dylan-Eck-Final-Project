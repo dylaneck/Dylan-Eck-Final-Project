{
 "cells": [
  {
   "cell_type": "markdown",
   "id": "441fdcc9-37eb-4755-9e4d-2fc49da5e6b3",
   "metadata": {},
   "source": [
    "# Quantified Me Final Project\n",
    "* Dylan Eck  \n",
    "* CPSC 222  \n",
    "* Dr. Sprint"
   ]
  },
  {
   "cell_type": "markdown",
   "id": "a1deb5e9-bf31-4789-b927-e268abb7a9db",
   "metadata": {},
   "source": [
    "## Introduction"
   ]
  },
  {
   "cell_type": "markdown",
   "id": "ea258998-3b47-4629-81bd-5b4af3566d73",
   "metadata": {},
   "source": [
    "### Goal\n",
    "For my project, I have downloaded my spotify data between 9/17/2020 and 9/15/2021. I will clean the data, then run tests on the data after visualizing it.\n",
    "\n",
    "<img src=\"https://www.macworld.com/wp-content/uploads/2021/03/spotify-logo-100779042-orig-3.jpg\" width=\"400\"/>"
   ]
  },
  {
   "cell_type": "markdown",
   "id": "53914667-8a07-47ef-8b28-1e949dbe91ed",
   "metadata": {},
   "source": [
    "### Why I Used This Data\n",
    "I chose to do Spotify data because, first I listen to a lot of music, so there is a lot of data on me. Second, with this data, I think a lot of conclusions could be drawn about what I am doing, how I am feeling, and where I am based off of what I listen to."
   ]
  },
  {
   "cell_type": "markdown",
   "id": "b4b4d599-1a7f-4b18-8c20-dbb3c6ade88b",
   "metadata": {},
   "source": [
    "### Format\n",
    "The data from Spotify is read in as a JSON file, and then I convert it to a dataframe, and store numerous series and dataframes based off of this data into CSV files."
   ]
  },
  {
   "cell_type": "markdown",
   "id": "792a4664-9b1d-454f-91ec-ee0af504391a",
   "metadata": {},
   "source": [
    "### Reading in Data\n",
    "\n",
    "Before even cleaning the data, I had to read it in. I was given six different json files from spotify, so I had to read them all in seperatly using pd.read_json(), which returned six pandas dataframes. I then had to combine all of the dataframes into one, using the function pd.concat(). I assigned that function to a variable and then returned the variable."
   ]
  },
  {
   "cell_type": "code",
   "execution_count": 1,
   "id": "4bea1c13-ed12-4c87-b4f9-5be660011bda",
   "metadata": {},
   "outputs": [
    {
     "name": "stdout",
     "output_type": "stream",
     "text": [
      "                endTime              artistName  \\\n",
      "0      2020-09-17 03:09                 Rihanna   \n",
      "1      2020-09-17 03:12             James Blake   \n",
      "2      2020-09-17 03:18            Travis Scott   \n",
      "3      2020-09-17 03:21  A Boogie Wit da Hoodie   \n",
      "4      2020-09-17 03:25                JACKBOYS   \n",
      "...                 ...                     ...   \n",
      "52672  2021-09-15 15:47           The Kid LAROI   \n",
      "52673  2021-09-15 15:51                24kGoldn   \n",
      "52674  2021-09-15 15:52         Chri$tian Gate$   \n",
      "52675  2021-09-15 15:57            Travis Scott   \n",
      "52676  2021-09-15 15:59            Lil Uzi Vert   \n",
      "\n",
      "                                           trackName  msPlayed  \n",
      "0                                    FourFiveSeconds    107933  \n",
      "1      Mile High (feat. Travis Scott & Metro Boomin)    193600  \n",
      "2                            90210 (feat. Kacy Hill)    339066  \n",
      "3                            Swervin (feat. 6ix9ine)    189486  \n",
      "4                    WHAT TO DO? (feat. Don Toliver)    250141  \n",
      "...                                              ...       ...  \n",
      "52672                                    TELL ME WHY    195268  \n",
      "52673                                    Butterflies    220386  \n",
      "52674                                           NUMB    112500  \n",
      "52675                                     goosebumps    243836  \n",
      "52676                                         20 Min    140610  \n",
      "\n",
      "[52677 rows x 4 columns]\n"
     ]
    }
   ],
   "source": [
    "import utils\n",
    "import pandas as pd\n",
    "\n",
    "streaming_df = utils.open_json()\n",
    "\n",
    "print(streaming_df)"
   ]
  },
  {
   "cell_type": "markdown",
   "id": "5f4fa7c9-9fa2-4757-bd9f-db011c1ee60e",
   "metadata": {},
   "source": [
    "### Attribute Descriptions\n",
    "* endTime: The holds the date and time that I finished listening to a specific song.\n",
    "    * I want to split these into different attributes so that I can work with both the date and time.\n",
    "* artistName: Name of the artist.\n",
    "    * This column will be dropped.\n",
    "* trackName: Name of the song listened to.\n",
    "    * This column will be dropped.\n",
    "* msPlayed: The amount of time that each specific song is played in milliseconds.\n",
    "    * I will convert this to sPlayed."
   ]
  },
  {
   "cell_type": "markdown",
   "id": "c7da53f8-fad5-46fe-a522-277ce43beb26",
   "metadata": {},
   "source": [
    "### What I Am Trying to Classify\n",
    "After doing a lot of cleaning, I intend on trying classify whether a day was in 2020 or 2021."
   ]
  },
  {
   "cell_type": "markdown",
   "id": "706dc765-ac1c-4861-817d-3c1757f92d52",
   "metadata": {},
   "source": [
    "### Impacts\n",
    "This result can show me how my music listening has changed between 2020 and 2021, and could open up further analysis into my habits in both years."
   ]
  },
  {
   "cell_type": "markdown",
   "id": "524a4f86-288a-4e77-935e-df365119a981",
   "metadata": {},
   "source": [
    "### Who Would be Interested in the Results\n",
    "The only people who would really be interested are Spotify and I. This is because I can get a better understanding of myself and Spotify can get a better understanding of one of their clients."
   ]
  },
  {
   "cell_type": "markdown",
   "id": "05670d7e-f22d-4e26-87b8-4bde2d6f47fc",
   "metadata": {},
   "source": [
    "## Data Cleaning"
   ]
  },
  {
   "cell_type": "markdown",
   "id": "89bacdce-2ca1-45ba-b10d-64bf9123a272",
   "metadata": {},
   "source": [
    "### Cleaning Data pt. 1\n",
    "\n",
    "Now that the data has been read in, I can now clean it so that I have some of the data that I want for tests. For readability reasons, the first column I want to add is converting the \"msPlayed\" column into a seconds played column. In order to do this, I must simplily make a series with the \"msPlayed\" column and then use the divide function with an input of 1000, since thats how many milliseconds are in a second. This will then be returned to a new series and that series will be added to the dataframe as a new column called \"sPlayed\". I am also going to drop columns that are not going to be useful in our analysis."
   ]
  },
  {
   "cell_type": "code",
   "execution_count": 2,
   "id": "21bd0469-744f-4200-b141-5a8158aba245",
   "metadata": {},
   "outputs": [
    {
     "name": "stdout",
     "output_type": "stream",
     "text": [
      "Total Seconds: 2789307.435999944 Total minutes: 46488.45726666573 Total hours: 774.8076211110955 Total days: 32.28365087962898\n",
      "                endTime  msPlayed  sPlayed\n",
      "0      2020-09-17 03:09    107933  107.933\n",
      "1      2020-09-17 03:12    193600  193.600\n",
      "2      2020-09-17 03:18    339066  339.066\n",
      "3      2020-09-17 03:21    189486  189.486\n",
      "4      2020-09-17 03:25    250141  250.141\n",
      "...                 ...       ...      ...\n",
      "52672  2021-09-15 15:47    195268  195.268\n",
      "52673  2021-09-15 15:51    220386  220.386\n",
      "52674  2021-09-15 15:52    112500  112.500\n",
      "52675  2021-09-15 15:57    243836  243.836\n",
      "52676  2021-09-15 15:59    140610  140.610\n",
      "\n",
      "[52677 rows x 3 columns]\n"
     ]
    }
   ],
   "source": [
    "streaming_df = utils.ms_to_s(streaming_df)\n",
    "streaming_df = utils.drop_rows(streaming_df)\n",
    "utils.pool_time(streaming_df)\n",
    "print(streaming_df)"
   ]
  },
  {
   "cell_type": "markdown",
   "id": "b83646e8-d372-4ee5-8bb7-af5358b86a52",
   "metadata": {},
   "source": [
    "### Data Cleaning Pt. 2\n",
    "The second column I want to add for my testing is a weekday column. In order to make a function that adds this column I must have the dates for each song. As you can see in the data, Spotify gives us an end time column, which includes the time that the song ended, along with the date. Since this cannot be used for the function, the time and date must be seperated. Using the str.split(expand=True) function, I am able to do this by splitting the string at the whitespace between the time and date. By putting expand=True, this makes it return both values to a new dataframe, which I can then assign the columns to columns of the main dataframe."
   ]
  },
  {
   "cell_type": "code",
   "execution_count": 3,
   "id": "d9ee8db4-3704-4638-9f36-e077b72462c9",
   "metadata": {},
   "outputs": [
    {
     "name": "stdout",
     "output_type": "stream",
     "text": [
      "      endTime  msPlayed  sPlayed        date\n",
      "0       03:09    107933  107.933  2020-09-17\n",
      "1       03:12    193600  193.600  2020-09-17\n",
      "2       03:18    339066  339.066  2020-09-17\n",
      "3       03:21    189486  189.486  2020-09-17\n",
      "4       03:25    250141  250.141  2020-09-17\n",
      "...       ...       ...      ...         ...\n",
      "52672   15:47    195268  195.268  2021-09-15\n",
      "52673   15:51    220386  220.386  2021-09-15\n",
      "52674   15:52    112500  112.500  2021-09-15\n",
      "52675   15:57    243836  243.836  2021-09-15\n",
      "52676   15:59    140610  140.610  2021-09-15\n",
      "\n",
      "[52677 rows x 4 columns]\n"
     ]
    }
   ],
   "source": [
    "streaming_df = utils.split_string(streaming_df)\n",
    "\n",
    "print(streaming_df)"
   ]
  },
  {
   "cell_type": "markdown",
   "id": "e6eeb10b-16ef-4b7b-8626-3ffa0f457156",
   "metadata": {},
   "source": [
    "### Data Cleaning Pt. 3\n",
    "\n",
    "Now that the date and time are seperated, we can now find the weekdays for each song. First, a series is made out of the newly created \"dates\" column and two empty pandas series are created. Then, the dates must be converted to datetime order using the .to_datetime() function and then stored as one of the blank pandas series. Then, the dates will being converted to weekdays using the .dt.day_name() function with the return value being stored in the other empty pandas series. This series will then be added to the main dataframe with a new column called \"Day_of_Week\"."
   ]
  },
  {
   "cell_type": "code",
   "execution_count": 4,
   "id": "e2cce377-e4b6-45b8-8a4e-81c42f5ffd28",
   "metadata": {},
   "outputs": [
    {
     "name": "stdout",
     "output_type": "stream",
     "text": [
      "      endTime  msPlayed  sPlayed        date Day_of_Week\n",
      "0       03:09    107933  107.933  2020-09-17    Thursday\n",
      "1       03:12    193600  193.600  2020-09-17    Thursday\n",
      "2       03:18    339066  339.066  2020-09-17    Thursday\n",
      "3       03:21    189486  189.486  2020-09-17    Thursday\n",
      "4       03:25    250141  250.141  2020-09-17    Thursday\n",
      "...       ...       ...      ...         ...         ...\n",
      "52672   15:47    195268  195.268  2021-09-15   Wednesday\n",
      "52673   15:51    220386  220.386  2021-09-15   Wednesday\n",
      "52674   15:52    112500  112.500  2021-09-15   Wednesday\n",
      "52675   15:57    243836  243.836  2021-09-15   Wednesday\n",
      "52676   15:59    140610  140.610  2021-09-15   Wednesday\n",
      "\n",
      "[52677 rows x 5 columns]\n"
     ]
    }
   ],
   "source": [
    "streaming_df, new_day_col = utils.add_day_col(streaming_df)\n",
    "\n",
    "print(streaming_df)"
   ]
  },
  {
   "cell_type": "markdown",
   "id": "ab326ce6-c8d4-463f-b551-18ced6c838bb",
   "metadata": {},
   "source": [
    "### Data Cleaning pt. 4\n",
    "Next, I want to add a column that signifies wherether each day is a weekday or a weekend. This is done by making a seperate series with just the \"Day_of_Week\" column, and then using a for loop and if statements, filling out a new empty pandas series with \"Weekday\" or \"Weekend,\" as appropriate. This series will then be added to the main dataframe as the \"weekday\" column."
   ]
  },
  {
   "cell_type": "code",
   "execution_count": 5,
   "id": "143de035-e7d5-4f66-9281-8c402ce59023",
   "metadata": {},
   "outputs": [
    {
     "name": "stdout",
     "output_type": "stream",
     "text": [
      "      endTime  msPlayed  sPlayed        date Day_of_Week Weekdays\n",
      "0       03:09    107933  107.933  2020-09-17    Thursday  Weekday\n",
      "1       03:12    193600  193.600  2020-09-17    Thursday  Weekday\n",
      "2       03:18    339066  339.066  2020-09-17    Thursday  Weekday\n",
      "3       03:21    189486  189.486  2020-09-17    Thursday  Weekday\n",
      "4       03:25    250141  250.141  2020-09-17    Thursday  Weekday\n",
      "...       ...       ...      ...         ...         ...      ...\n",
      "52672   15:47    195268  195.268  2021-09-15   Wednesday  Weekday\n",
      "52673   15:51    220386  220.386  2021-09-15   Wednesday  Weekday\n",
      "52674   15:52    112500  112.500  2021-09-15   Wednesday  Weekday\n",
      "52675   15:57    243836  243.836  2021-09-15   Wednesday  Weekday\n",
      "52676   15:59    140610  140.610  2021-09-15   Wednesday  Weekday\n",
      "\n",
      "[52677 rows x 6 columns]\n"
     ]
    }
   ],
   "source": [
    "week_ser, day_ser, weekend_ser, weekday_ser, streaming_df, time_ser = utils.aggregate_data(streaming_df)\n",
    "\n",
    "print(streaming_df)"
   ]
  },
  {
   "cell_type": "markdown",
   "id": "64fc245a-b977-47e1-963c-8c2560003b2e",
   "metadata": {},
   "source": [
    "### Data Cleaning Pt. 5\n",
    "Now I want to make it so that there is only 1 row per day, not 1 row for every song that I have listened to. So I created a function that uses the .groupby function to group each instance by the same value, in this case dates. This would then return a new dataframe. Along with this, I grouped data by weekends and weekdays, which were previously added to the main dataframe. This function also worked to seperate the weekdays and weekends into two different dataframes after all of the data for each day was aggrigated into one row. I will then manually fill in dates that I did not listen to music with \"0\" in sPlayed and necessary values for other columns so that dependant t-test can be preformed. I will then add columns with the month, year, and wherether it is a hot month or a cold month(1 = yes, 0 = no). Along with this, data for each weekday will be aggrigated. I will also make seperate dataframes for each weekday and then weekdays and weekends as a whole."
   ]
  },
  {
   "cell_type": "code",
   "execution_count": 6,
   "id": "555201bf-9ee9-4102-9604-d1ce021a42b3",
   "metadata": {},
   "outputs": [
    {
     "name": "stdout",
     "output_type": "stream",
     "text": [
      "           date  msPlayed    sPlayed Day_of_Week Weekdays  year  month  heat\n",
      "0    2020-09-17   8673232   8673.232    Thursday  Weekday  2020      9     1\n",
      "1    2020-09-18  10823254  10823.254      Friday  Weekday  2020      9     1\n",
      "2    2020-09-19   8206771   8206.771    Saturday  Weekend  2020      9     1\n",
      "3    2020-09-20   6578224   6578.224      Sunday  Weekend  2020      9     1\n",
      "4    2020-09-21  12646517  12646.517      Monday  Weekday  2020      9     1\n",
      "..          ...       ...        ...         ...      ...   ...    ...   ...\n",
      "359  2021-09-11   3057668   3057.668    Saturday  Weekend  2021      9     1\n",
      "360  2021-09-12         0      0.000      Sunday  Weekend  2021      9     1\n",
      "361  2021-09-13  10589637  10589.637      Monday  Weekday  2021      9     1\n",
      "362  2021-09-14   6207483   6207.483     Tuesday  Weekday  2021      9     1\n",
      "363  2021-09-15   6519708   6519.708   Wednesday  Weekday  2021      9     1\n",
      "\n",
      "[364 rows x 8 columns]\n"
     ]
    }
   ],
   "source": [
    "days_df = utils.pool_by_day(streaming_df, \"day.csv\")\n",
    "days_df = utils.seperate_dates(days_df)\n",
    "days_df = utils.make_warm_cold(days_df)\n",
    "days_df = utils.clean_months(days_df)\n",
    "week_df, wend_df, monday_df, tuesday_df, wednesday_df, thursday_df, friday_df, saturday_df, sunday_df = utils.make_sep_df(days_df)"
   ]
  },
  {
   "cell_type": "markdown",
   "id": "47abc9cb-4c27-4089-b127-8225e205ad0e",
   "metadata": {},
   "source": [
    "### Data Cleaning Pt. 6\n",
    "Along with the day of week, I wanted to look at how the time of the day affected how much music I listened to in total. In order to do this, I ran a for loop with if statements that gave out designations from 1-6 based on the time. Then I split each of the values with the same indicator into different dataframes."
   ]
  },
  {
   "cell_type": "code",
   "execution_count": 7,
   "id": "574074e1-04b5-4b84-bbed-8b57f47adc02",
   "metadata": {},
   "outputs": [],
   "source": [
    "streaming_df = utils.seperate_time_data(streaming_df)\n",
    "\n",
    "one_ser, two_ser, three_ser, four_ser, five_ser, six_ser, section_ser, day_ser_2 = utils.split_time(streaming_df)"
   ]
  },
  {
   "cell_type": "markdown",
   "id": "bed932e9-61c5-4a53-bd62-dd7fd2b4a2b8",
   "metadata": {},
   "source": [
    "### Challenges with Data Preperation\n",
    "The biggest challenge with data preperation was the fact that I was not given all that much data. This forced me to do a lot of cleaning and aggrigation, trying to find a pattern. This caused data cleaning to be the largest part of my project."
   ]
  },
  {
   "cell_type": "markdown",
   "id": "25bab6f0-66dd-43c8-9d54-15001ceb0de2",
   "metadata": {},
   "source": [
    "## Visualizations"
   ]
  },
  {
   "cell_type": "markdown",
   "id": "20e38198-cbf9-432b-a9db-5ff91da622fe",
   "metadata": {},
   "source": [
    "### Weekday Data Visualization\n",
    "\n",
    "After adding the date column, I was curious to see if the was a difference in how much music I listen to each day. So I made 3 different data visualizations. The first one compares the total amount of music listened to by each weekday. The second one shows that amount of total music I listened to on weekdays versus weekends, with the data normalized to being the average per day of the week. (Total amount listened to on weekdays divided by 5 and weekends divided by 2). The last one is the total amount of seconds I listened to music for each day in the dataset."
   ]
  },
  {
   "cell_type": "code",
   "execution_count": 8,
   "id": "03056408-2b61-433f-ae2e-5b6b3bea2b04",
   "metadata": {},
   "outputs": [
    {
     "data": {
      "image/png": "[encoded data removed]",
      "text/plain": [
       "<Figure size 432x288 with 1 Axes>"
      ]
     },
     "metadata": {
      "needs_background": "light"
     },
     "output_type": "display_data"
    },
    {
     "data": {
      "image/png": "[encoded data removed]",
      "text/plain": [
       "<Figure size 432x288 with 1 Axes>"
      ]
     },
     "metadata": {
      "needs_background": "light"
     },
     "output_type": "display_data"
    },
    {
     "data": {
      "image/png": "[encoded data removed]",
      "text/plain": [
       "<Figure size 432x288 with 1 Axes>"
      ]
     },
     "metadata": {
      "needs_background": "light"
     },
     "output_type": "display_data"
    }
   ],
   "source": [
    "utils.make_chart(week_ser, day_ser)\n",
    "utils.make_chart_2(weekend_ser)\n",
    "utils.make_chart_3(days_df)"
   ]
  },
  {
   "cell_type": "markdown",
   "id": "c9a69357-00c5-4f41-a51b-e632b9a8fee1",
   "metadata": {},
   "source": [
    "### Visualization Analysis\n",
    "In the first visual, Tuesday appears to have the most music listened to. My guess would be because I often listen to music while doing howework, and Tuesday it usually a heavy homework day for me. In the second visual, it appears that I listen to more music on the average weekday rather than weekend. My guess would be that this is caused by homework again. In the final visual, there is a large gap in the October-November 2020 section. My guess is that this is an issue with Spotify, because I doubt I went a whole month without listening to music. Also, Summer 2021 seems like the time where I listened to music the most. This is because I would often listen to music during my Summer job, which was full-time."
   ]
  },
  {
   "cell_type": "markdown",
   "id": "515757e4-a03d-4ceb-88f7-962fbf1553d2",
   "metadata": {},
   "source": [
    "### Time Data Visualization\n",
    "After seperating the total amount of music I listened to into 6 different data frames, I was curious to see this data visually. The visualization shows the total amount of seconds of music listened to in each 4 hour section throughout all of the days."
   ]
  },
  {
   "cell_type": "code",
   "execution_count": 9,
   "id": "dc36ff58-8258-40f9-9ae0-3d9c49094d38",
   "metadata": {},
   "outputs": [
    {
     "data": {
      "image/png": "[encoded data removed]",
      "text/plain": [
       "<Figure size 432x288 with 1 Axes>"
      ]
     },
     "metadata": {
      "needs_background": "light"
     },
     "output_type": "display_data"
    }
   ],
   "source": [
    "utils.make_chart_4(section_ser, day_ser_2)"
   ]
  },
  {
   "cell_type": "markdown",
   "id": "a48616fe-a62f-4dba-9364-a53c5fdc5006",
   "metadata": {},
   "source": [
    "### Visualization Analysis\n",
    "From this visual, it appears that I listen to a lot more music in the PM than the AM. this makes sense, as I am asleep for much of the AM."
   ]
  },
  {
   "cell_type": "markdown",
   "id": "53e0f541-4c5f-4c93-815e-8473b7c7a18e",
   "metadata": {},
   "source": [
    "### T-test #1\n",
    "\n",
    "The first t-test I am going to run on the data is a set of t-tests related to the seconds of music listened to by weekday. To get a general feel for the data, I am going to run 3 concurrent t-tests, running a Tuesday vs Saturday, Monday vs Friday, and and Wednesday vs Sunday. For each test I will be seeing if there is a difference in the daily minutes listened by weekday, and I will set $\\alpha = .05$."
   ]
  },
  {
   "cell_type": "markdown",
   "id": "84a4f68c-658d-4c6b-b622-a3e39d4baa8c",
   "metadata": {},
   "source": [
    "#### Step 1: Identify the null and alternative hypothesis\n",
    "- The null hyphothesis is the \"status quo\" and the alternative is the potential result if the null is rejected\n",
    "- Null Hypothesis 1 (H0) - $Tuesday = Saturday$\n",
    "- Alternative Hypothesis 1 (H1) - $Tuesday \\ne Saturday$"
   ]
  },
  {
   "cell_type": "markdown",
   "id": "54bb7d9c-b69f-4c34-861b-b31e4594b232",
   "metadata": {},
   "source": [
    "- Null Hypothesis 2 (H0) - $Monday = Friday$\n",
    "- Alternative Hypothesis 2 (H1) - $Monday \\ne Friday$"
   ]
  },
  {
   "cell_type": "markdown",
   "id": "d470d180-279a-44e7-8c68-1d977bbcd5da",
   "metadata": {},
   "source": [
    "- Null Hypothesis 3 (H0) - $Wednesday = Sunday$\n",
    "- Alternative Hypothesis 3 (H1) - $Wednesday \\ne Sunday$"
   ]
  },
  {
   "cell_type": "markdown",
   "id": "99589dc1-3a75-40c3-a871-c47066cab3b7",
   "metadata": {},
   "source": [
    "#### 2. Level of Significance ($\\alpha$)\n",
    "- This is the level of certainty that we are avoiding a type 1 error (Rejecting the null when it is actually true)\n",
    "- We have decided that $\\alpha = .05$\n",
    "- That means there is a 5% chance of a type 1 error"
   ]
  },
  {
   "cell_type": "markdown",
   "id": "3defcf2c-8772-41cf-b686-42fb47e52cdb",
   "metadata": {},
   "source": [
    "#### 3. Select Appropriate test stat\n",
    "- This is the equation we're going to use to calculate the t-value.\n",
    "- Since we are doing a 2 sample, 2 tailed t-test with independent samples, it will be calculated using the equation: $t = \\frac{\\overline{d}- \\mu_d}{s_d}$`"
   ]
  },
  {
   "cell_type": "markdown",
   "id": "87137164-892a-42dc-bd4f-f166c367adce",
   "metadata": {},
   "source": [
    "#### 4. Decision Rule: Critical Value\n",
    "- This where we decide that at what critical value we will reject of fail to reject null hypothesis\n",
    "- $\\alpha = .05$\n",
    "- 2-tailed t-test\n",
    "- 1.96\n",
    "- Due to the high number of values for each test we will go with df = infinity\n",
    "- Therefore, if $t-computed < -1.96$ or $t-computed > 1.96$, then we  reject the null hypothesis, if $t-computed > -1.96$ and $t-computed < 1.96$, then we fail to reject the null."
   ]
  },
  {
   "cell_type": "markdown",
   "id": "be52902b-834c-4734-b09e-5bea4c4fe669",
   "metadata": {},
   "source": [
    "#### 5. Make decision\n",
    "- This is where the decision is made.\n",
    "- t-computed is calculated below using python:"
   ]
  },
  {
   "cell_type": "code",
   "execution_count": 10,
   "id": "ac031fb9-8d54-4f53-9c19-28b7356d1974",
   "metadata": {},
   "outputs": [
    {
     "name": "stdout",
     "output_type": "stream",
     "text": [
      "t for Tuesday vs Saturday: 1.3724400321934167 p: 0.1759325038115618\n",
      "t for Monday vs Friday: 0.9477845077085488 p: 0.34770865937079587\n",
      "t for Wednesday vs Sunday: 1.9023964506082696 p: 0.06277320647571659\n"
     ]
    }
   ],
   "source": [
    "utils.days_ttest(monday_df, tuesday_df, wednesday_df, friday_df, saturday_df, sunday_df)"
   ]
  },
  {
   "cell_type": "markdown",
   "id": "bda965d6-4e8b-4757-b626-653479b60bcb",
   "metadata": {},
   "source": [
    "### Conclusion\n",
    "Based off of the t values for each test, we fail to reject the null hypothesis as $\\alpha = .05$. There appears to not be a difference in the amount of music I listen to in the compared days."
   ]
  },
  {
   "cell_type": "markdown",
   "id": "835e3844-cf8d-44ce-ab56-a4617b8aed91",
   "metadata": {},
   "source": [
    "### T-test #2\n",
    "I assigned the days in the previous test intentionally in order to see if there was a difference between the amount of music I listen to on an average weekday versus weekend day. We will run the test to see if there is a difference, and we will use $\\alpha = .05$."
   ]
  },
  {
   "cell_type": "markdown",
   "id": "777e778c-053f-4ccc-ac5c-598688609276",
   "metadata": {},
   "source": [
    "## Step 1: Identify the null and alternative hypothesis\n",
    "- The null hyphothesis is the \"status quo\" and the alternative is the potential result if the null is rejected\n",
    "- Null Hypothesis (H0) - $Weekdays = Weekends$\n",
    "- Alternative Hypothesis (H1) - $Weekdays \\ne Weekends$"
   ]
  },
  {
   "cell_type": "markdown",
   "id": "fe53d582-e2c6-483f-9d80-7052acac6647",
   "metadata": {},
   "source": [
    "#### 2. Level of Significance ($\\alpha$)\n",
    "- This is the level of certainty that we are avoiding a type 1 error (Rejecting the null when it is actually true)\n",
    "- We have decided that $\\alpha = .05$\n",
    "- That means there is a 5% chance of a type 1 error"
   ]
  },
  {
   "cell_type": "markdown",
   "id": "a306b61d-3578-4650-b290-752a4a057982",
   "metadata": {},
   "source": [
    "#### 3. Select Appropriate test stat\n",
    "- This is the equation we're going to use to calculate the t-value.\n",
    "- Since we are doing a 2 sample, 2 tailed t-test with independent samples, it will be calculated using the equation: $t = \\frac{\\overline{d}- \\mu_d}{s_d}$`"
   ]
  },
  {
   "cell_type": "markdown",
   "id": "d34a3877-2ad9-4c28-8355-9651497037f8",
   "metadata": {},
   "source": [
    "#### 4. Decision Rule: Critical Value\n",
    "- This where we decide that at what critical value we will reject of fail to reject null hypothesis\n",
    "- $\\alpha = .05$\n",
    "- 2-tailed t-test\n",
    "- 1.96\n",
    "- Due to the high number of values for each test we will go with df = infinity\n",
    "- Therefore, if $t-computed < -1.96$ or $t-computed > 1.96$, then we  reject the null hypothesis, if $t-computed > -1.96$ and $t-computed < 1.96$, then we fail to reject the null."
   ]
  },
  {
   "cell_type": "markdown",
   "id": "322dd2a1-65e2-4452-8147-20bba4470934",
   "metadata": {},
   "source": [
    "#### 5. Make decision\n",
    "- This is where the decision is made.\n",
    "- t-computed is calculated below using python:"
   ]
  },
  {
   "cell_type": "code",
   "execution_count": 11,
   "id": "d37f6d8c-8031-437f-81a2-67b79f2508bb",
   "metadata": {},
   "outputs": [
    {
     "name": "stdout",
     "output_type": "stream",
     "text": [
      "t: 1.3866515045959888 p: 0.1664013771631589\n"
     ]
    }
   ],
   "source": [
    "utils.weekday_ttest(week_df, wend_df)"
   ]
  },
  {
   "cell_type": "markdown",
   "id": "2637b3a6-ec99-4e3a-9efd-84e76903a4bd",
   "metadata": {},
   "source": [
    "### Conclusion\n",
    "Based off of the t value, we fail to reject the null hypothesis as $\\alpha = .05$. There appears to not be a difference between the amount of music I listen to on weekdays versus weekends."
   ]
  },
  {
   "cell_type": "markdown",
   "id": "4846a43f-64eb-496f-a5d9-e9bc88d003fe",
   "metadata": {},
   "source": [
    "### T-test #3\n",
    "For this t-test, I am going to have another series of t-tests, comparing the AM and PM time counterparts. We will run the test to see if there is a difference, and we will use $\\alpha = .05$."
   ]
  },
  {
   "cell_type": "markdown",
   "id": "93d16e6c-de34-4134-ae65-273cf5e89c3b",
   "metadata": {},
   "source": [
    "#### Step 1: Identify the null and alternative hypothesis\n",
    "- The null hyphothesis is the \"status quo\" and the alternative is the potential result if the null is rejected\n",
    "- Null Hypothesis 1 (H0) - $12am = 12pm$\n",
    "- Alternative Hypothesis 1 (H1) - $12am \\ne 12pm$"
   ]
  },
  {
   "cell_type": "markdown",
   "id": "a83bed84-50c3-45db-a195-37f0fde6e91c",
   "metadata": {},
   "source": [
    "- Null Hypothesis 2 (H0) - $4am = 4pm$\n",
    "- Alternative Hypothesis 2 (H1) - $4am \\ne 4pm$"
   ]
  },
  {
   "cell_type": "markdown",
   "id": "3146cbf8-6a03-4176-aa98-dae730ce71a6",
   "metadata": {},
   "source": [
    "- Null Hypothesis 3 (H0) - $8am = 8pm$\n",
    "- Alternative Hypothesis 3 (H1) - $8am \\ne 8pm$"
   ]
  },
  {
   "cell_type": "markdown",
   "id": "4fd7b1ba-6e68-4fae-a0fb-f7ee8baabdfe",
   "metadata": {},
   "source": [
    "#### 2. Level of Significance ($\\alpha$)\n",
    "- This is the level of certainty that we are avoiding a type 1 error (Rejecting the null when it is actually true)\n",
    "- We have decided that $\\alpha = .05$\n",
    "- That means there is a 5% chance of a type 1 error"
   ]
  },
  {
   "cell_type": "markdown",
   "id": "e260eee1-fd54-45f8-af5a-09b4d1238645",
   "metadata": {},
   "source": [
    "#### 3. Select Appropriate test stat\n",
    "- This is the equation we're going to use to calculate the t-value.\n",
    "- Since we are doing a 2 sample, 2 tailed t-test with independent samples, it will be calculated using the equation: $t = \\frac{\\overline{d}- \\mu_d}{s_d}$`"
   ]
  },
  {
   "cell_type": "markdown",
   "id": "1b769c86-a929-4c93-8cb4-047b658b0748",
   "metadata": {},
   "source": [
    "#### 4. Decision Rule: Critical Value\n",
    "- This where we decide that at what critical value we will reject of fail to reject null hypothesis\n",
    "- $\\alpha = .05$\n",
    "- 2-tailed t-test\n",
    "- 1.96\n",
    "- Due to the high number of values for each test we will go with df = infinity\n",
    "- Therefore, if $t-computed < -1.96$ or $t-computed > 1.96$, then we  reject the null hypothesis, if $t-computed > -1.96$ and $t-computed < 1.96$, then we fail to reject the null."
   ]
  },
  {
   "cell_type": "markdown",
   "id": "4f9d4d5b-bec2-483f-a080-44ed4243cac5",
   "metadata": {},
   "source": [
    "#### 5. Make decision\n",
    "- This is where the decision is made.\n",
    "- t-computed is calculated below using python:"
   ]
  },
  {
   "cell_type": "code",
   "execution_count": 12,
   "id": "3392c68e-c8ba-4d26-a117-47d95b29c033",
   "metadata": {},
   "outputs": [
    {
     "name": "stdout",
     "output_type": "stream",
     "text": [
      "t for 12-4: -4.597586083313764 p: 6.175728590895111e-06\n",
      "t for 4-8: -1.929051941892462 p: 0.054589565454335284\n",
      "t for 8-12: 0.019462052800331378 p: 0.984484451409492\n"
     ]
    }
   ],
   "source": [
    "utils.time_ttest(one_ser, two_ser, three_ser, four_ser, five_ser, six_ser)"
   ]
  },
  {
   "cell_type": "markdown",
   "id": "4e1baffe-246c-4298-a77d-3600172284c0",
   "metadata": {},
   "source": [
    "### Conclusion\n",
    "Based off of the t values, we fail to reject the null hypotheses for 4-8 and 8-12 at $\\alpha = .05$. There appears to not be a difference between the amount of music I listen to in the different am and pm times. For 12-4, we do reject the null at $\\alpha = .05$, so there appears to be a difference in the amount of seconds of music listened to."
   ]
  },
  {
   "cell_type": "markdown",
   "id": "c67d7d47-c445-47a6-afc2-a2bab9ceeaef",
   "metadata": {},
   "source": [
    "## Classification"
   ]
  },
  {
   "cell_type": "markdown",
   "id": "61eaabc2-66b2-455a-9b0e-57d351881567",
   "metadata": {},
   "source": [
    "### What We're Trying to Predict\n",
    "We are going to try to classify if the instance we're are looking at is in 2020 or 2021. The classifiers will be evaluated on accuracy."
   ]
  },
  {
   "cell_type": "markdown",
   "id": "3883289c-f4f2-49a4-b5d4-bb8a219b046a",
   "metadata": {},
   "source": [
    "### Hypothesis\n",
    "My hypothesis is that based on the data I have, there are not super strong correlations, so I do not think the accuracy of the classifiers will be all that great."
   ]
  },
  {
   "cell_type": "markdown",
   "id": "1f2ed501-32a3-4d09-a751-dc33bc5e9a11",
   "metadata": {},
   "source": [
    "### Correlation Matrix\n",
    "To get a sense for how well values are correlated to each other, I am going to run a correlation matrix. I will also convert the days of the week to numeric on a 1-7 scale and then convert years and weekdays to 1 or 0."
   ]
  },
  {
   "cell_type": "code",
   "execution_count": 13,
   "id": "c91589ef-fbf0-4ec0-9c73-edc54f916b14",
   "metadata": {},
   "outputs": [
    {
     "data": {
      "text/html": [
       "<style  type=\"text/css\" >\n",
       "#T_f428b_row0_col0,#T_f428b_row1_col1,#T_f428b_row2_col2,#T_f428b_row3_col3,#T_f428b_row4_col4,#T_f428b_row5_col5{\n",
       "            background-color:  #ff0000;\n",
       "            color:  #f1f1f1;\n",
       "        }#T_f428b_row0_col1,#T_f428b_row0_col2,#T_f428b_row3_col4,#T_f428b_row4_col0,#T_f428b_row4_col3,#T_f428b_row4_col5{\n",
       "            background-color:  #0000ff;\n",
       "            color:  #f1f1f1;\n",
       "        }#T_f428b_row0_col3{\n",
       "            background-color:  #ff9c9c;\n",
       "            color:  #000000;\n",
       "        }#T_f428b_row0_col4{\n",
       "            background-color:  #9696ff;\n",
       "            color:  #000000;\n",
       "        }#T_f428b_row0_col5{\n",
       "            background-color:  #b0b0ff;\n",
       "            color:  #000000;\n",
       "        }#T_f428b_row1_col0{\n",
       "            background-color:  #4444ff;\n",
       "            color:  #f1f1f1;\n",
       "        }#T_f428b_row1_col2,#T_f428b_row2_col1{\n",
       "            background-color:  #ff6262;\n",
       "            color:  #000000;\n",
       "        }#T_f428b_row1_col3{\n",
       "            background-color:  #e0e0ff;\n",
       "            color:  #000000;\n",
       "        }#T_f428b_row1_col4,#T_f428b_row2_col4{\n",
       "            background-color:  #dcdcff;\n",
       "            color:  #000000;\n",
       "        }#T_f428b_row1_col5,#T_f428b_row2_col5{\n",
       "            background-color:  #0404ff;\n",
       "            color:  #f1f1f1;\n",
       "        }#T_f428b_row2_col0{\n",
       "            background-color:  #4c4cff;\n",
       "            color:  #f1f1f1;\n",
       "        }#T_f428b_row2_col3{\n",
       "            background-color:  #e2e2ff;\n",
       "            color:  #000000;\n",
       "        }#T_f428b_row3_col0{\n",
       "            background-color:  #ffdcdc;\n",
       "            color:  #000000;\n",
       "        }#T_f428b_row3_col1,#T_f428b_row5_col1{\n",
       "            background-color:  #2a2aff;\n",
       "            color:  #f1f1f1;\n",
       "        }#T_f428b_row3_col2,#T_f428b_row4_col1{\n",
       "            background-color:  #2424ff;\n",
       "            color:  #f1f1f1;\n",
       "        }#T_f428b_row3_col5{\n",
       "            background-color:  #f2f2ff;\n",
       "            color:  #000000;\n",
       "        }#T_f428b_row4_col2{\n",
       "            background-color:  #1c1cff;\n",
       "            color:  #f1f1f1;\n",
       "        }#T_f428b_row5_col0{\n",
       "            background-color:  #f4f4ff;\n",
       "            color:  #000000;\n",
       "        }#T_f428b_row5_col2{\n",
       "            background-color:  #2222ff;\n",
       "            color:  #f1f1f1;\n",
       "        }#T_f428b_row5_col3{\n",
       "            background-color:  #ff9696;\n",
       "            color:  #000000;\n",
       "        }#T_f428b_row5_col4{\n",
       "            background-color:  #dedeff;\n",
       "            color:  #000000;\n",
       "        }</style><table id=\"T_f428b_\" ><thead>    <tr>        <th class=\"blank level0\" ></th>        <th class=\"col_heading level0 col0\" >sPlayed</th>        <th class=\"col_heading level0 col1\" >Day_of_Week</th>        <th class=\"col_heading level0 col2\" >Weekdays</th>        <th class=\"col_heading level0 col3\" >year</th>        <th class=\"col_heading level0 col4\" >month</th>        <th class=\"col_heading level0 col5\" >heat</th>    </tr></thead><tbody>\n",
       "                <tr>\n",
       "                        <th id=\"T_f428b_level0_row0\" class=\"row_heading level0 row0\" >sPlayed</th>\n",
       "                        <td id=\"T_f428b_row0_col0\" class=\"data row0 col0\" >1.00</td>\n",
       "                        <td id=\"T_f428b_row0_col1\" class=\"data row0 col1\" >-0.09</td>\n",
       "                        <td id=\"T_f428b_row0_col2\" class=\"data row0 col2\" >-0.07</td>\n",
       "                        <td id=\"T_f428b_row0_col3\" class=\"data row0 col3\" >0.46</td>\n",
       "                        <td id=\"T_f428b_row0_col4\" class=\"data row0 col4\" >-0.26</td>\n",
       "                        <td id=\"T_f428b_row0_col5\" class=\"data row0 col5\" >0.34</td>\n",
       "            </tr>\n",
       "            <tr>\n",
       "                        <th id=\"T_f428b_level0_row1\" class=\"row_heading level0 row1\" >Day_of_Week</th>\n",
       "                        <td id=\"T_f428b_row1_col0\" class=\"data row1 col0\" >-0.09</td>\n",
       "                        <td id=\"T_f428b_row1_col1\" class=\"data row1 col1\" >1.00</td>\n",
       "                        <td id=\"T_f428b_row1_col2\" class=\"data row1 col2\" >0.79</td>\n",
       "                        <td id=\"T_f428b_row1_col3\" class=\"data row1 col3\" >0.00</td>\n",
       "                        <td id=\"T_f428b_row1_col4\" class=\"data row1 col4\" >-0.01</td>\n",
       "                        <td id=\"T_f428b_row1_col5\" class=\"data row1 col5\" >0.00</td>\n",
       "            </tr>\n",
       "            <tr>\n",
       "                        <th id=\"T_f428b_level0_row2\" class=\"row_heading level0 row2\" >Weekdays</th>\n",
       "                        <td id=\"T_f428b_row2_col0\" class=\"data row2 col0\" >-0.07</td>\n",
       "                        <td id=\"T_f428b_row2_col1\" class=\"data row2 col1\" >0.79</td>\n",
       "                        <td id=\"T_f428b_row2_col2\" class=\"data row2 col2\" >1.00</td>\n",
       "                        <td id=\"T_f428b_row2_col3\" class=\"data row2 col3\" >0.00</td>\n",
       "                        <td id=\"T_f428b_row2_col4\" class=\"data row2 col4\" >-0.01</td>\n",
       "                        <td id=\"T_f428b_row2_col5\" class=\"data row2 col5\" >0.00</td>\n",
       "            </tr>\n",
       "            <tr>\n",
       "                        <th id=\"T_f428b_level0_row3\" class=\"row_heading level0 row3\" >year</th>\n",
       "                        <td id=\"T_f428b_row3_col0\" class=\"data row3 col0\" >0.46</td>\n",
       "                        <td id=\"T_f428b_row3_col1\" class=\"data row3 col1\" >0.00</td>\n",
       "                        <td id=\"T_f428b_row3_col2\" class=\"data row3 col2\" >0.00</td>\n",
       "                        <td id=\"T_f428b_row3_col3\" class=\"data row3 col3\" >1.00</td>\n",
       "                        <td id=\"T_f428b_row3_col4\" class=\"data row3 col4\" >-0.78</td>\n",
       "                        <td id=\"T_f428b_row3_col5\" class=\"data row3 col5\" >0.47</td>\n",
       "            </tr>\n",
       "            <tr>\n",
       "                        <th id=\"T_f428b_level0_row4\" class=\"row_heading level0 row4\" >month</th>\n",
       "                        <td id=\"T_f428b_row4_col0\" class=\"data row4 col0\" >-0.26</td>\n",
       "                        <td id=\"T_f428b_row4_col1\" class=\"data row4 col1\" >-0.01</td>\n",
       "                        <td id=\"T_f428b_row4_col2\" class=\"data row4 col2\" >-0.01</td>\n",
       "                        <td id=\"T_f428b_row4_col3\" class=\"data row4 col3\" >-0.78</td>\n",
       "                        <td id=\"T_f428b_row4_col4\" class=\"data row4 col4\" >1.00</td>\n",
       "                        <td id=\"T_f428b_row4_col5\" class=\"data row4 col5\" >-0.01</td>\n",
       "            </tr>\n",
       "            <tr>\n",
       "                        <th id=\"T_f428b_level0_row5\" class=\"row_heading level0 row5\" >heat</th>\n",
       "                        <td id=\"T_f428b_row5_col0\" class=\"data row5 col0\" >0.34</td>\n",
       "                        <td id=\"T_f428b_row5_col1\" class=\"data row5 col1\" >0.00</td>\n",
       "                        <td id=\"T_f428b_row5_col2\" class=\"data row5 col2\" >0.00</td>\n",
       "                        <td id=\"T_f428b_row5_col3\" class=\"data row5 col3\" >0.47</td>\n",
       "                        <td id=\"T_f428b_row5_col4\" class=\"data row5 col4\" >-0.01</td>\n",
       "                        <td id=\"T_f428b_row5_col5\" class=\"data row5 col5\" >1.00</td>\n",
       "            </tr>\n",
       "    </tbody></table>"
      ],
      "text/plain": [
       "<pandas.io.formats.style.Styler at 0x7fd67455ed90>"
      ]
     },
     "execution_count": 13,
     "metadata": {},
     "output_type": "execute_result"
    }
   ],
   "source": [
    "rest_df  = days_df.drop(columns=[\"msPlayed\", \"date\"])\n",
    "rest_df = utils.convert_numeric(rest_df)\n",
    "corr_df = rest_df.corr()\n",
    "corr_df.style.background_gradient(cmap='bwr').set_precision(2)"
   ]
  },
  {
   "cell_type": "markdown",
   "id": "baf5466c-9bcc-4927-9f66-c5ea3e544dc0",
   "metadata": {},
   "source": [
    "As you can see, ther is not a whole lot of correlation between anything. The one that stands out is that there is a moderate correlation between the year and seconds played, so I will attempt to make a classifier that predicts which year that set of data is in."
   ]
  },
  {
   "cell_type": "markdown",
   "id": "7809dfbc-e123-4035-9897-c35c7925a68b",
   "metadata": {},
   "source": [
    "### kNN Classifier\n",
    "I will now run a kNN classifier to try to figure out which year each set of data is in. I will drop the msPlayed, date, weekdays, and year columns for my x value, and I will reserve 75% of my data for training and 25% for testing. I will start out by having k = 4."
   ]
  },
  {
   "cell_type": "code",
   "execution_count": 14,
   "id": "64de1e31-381b-4769-872c-973be2820fcb",
   "metadata": {},
   "outputs": [
    {
     "ename": "NameError",
     "evalue": "name 'days_ser' is not defined",
     "output_type": "error",
     "traceback": [
      "\u001b[0;31m---------------------------------------------------------------------------\u001b[0m",
      "\u001b[0;31mNameError\u001b[0m                                 Traceback (most recent call last)",
      "\u001b[0;32m<ipython-input-14-ded5e4c6f17c>\u001b[0m in \u001b[0;36m<module>\u001b[0;34m\u001b[0m\n\u001b[0;32m----> 1\u001b[0;31m \u001b[0mutils\u001b[0m\u001b[0;34m.\u001b[0m\u001b[0mkNN_class\u001b[0m\u001b[0;34m(\u001b[0m\u001b[0mdays_ser\u001b[0m\u001b[0;34m,\u001b[0m \u001b[0;36m4\u001b[0m\u001b[0;34m)\u001b[0m\u001b[0;34m\u001b[0m\u001b[0;34m\u001b[0m\u001b[0m\n\u001b[0m",
      "\u001b[0;31mNameError\u001b[0m: name 'days_ser' is not defined"
     ]
    }
   ],
   "source": [
    "utils.kNN_class(days_ser, 4)"
   ]
  },
  {
   "cell_type": "markdown",
   "id": "319b6b6d-e443-4677-9093-308772f0fac8",
   "metadata": {},
   "source": [
    "As you can see, this classifier is very accurate, however, only $\\frac{106}{364}$ of my points are in 2020, so if someone guessed 2021 for all of my points, they would still have an accuracy of about 71%. Let's see if changing the k-value can imporve the classifier."
   ]
  },
  {
   "cell_type": "markdown",
   "id": "30cf4e59-cb61-491c-a1d6-a2cad6e960b6",
   "metadata": {},
   "source": [
    "#### k = 3"
   ]
  },
  {
   "cell_type": "code",
   "execution_count": null,
   "id": "711cb67a-fd4f-4755-ad21-ce5eaf3ce888",
   "metadata": {},
   "outputs": [],
   "source": [
    "utils.kNN_class(days_ser, 3)"
   ]
  },
  {
   "cell_type": "markdown",
   "id": "64ba3138-c7c6-413f-9b72-857a978c09e0",
   "metadata": {},
   "source": [
    "#### k = 5"
   ]
  },
  {
   "cell_type": "code",
   "execution_count": null,
   "id": "3fa7324c-d5be-4006-8bff-1ae6798e8ff2",
   "metadata": {},
   "outputs": [],
   "source": [
    "utils.kNN_class(days_ser, 5)"
   ]
  },
  {
   "cell_type": "markdown",
   "id": "7d8d39b3-9e29-460b-bca8-308e6fb2d727",
   "metadata": {},
   "source": [
    "#### k = 6"
   ]
  },
  {
   "cell_type": "code",
   "execution_count": null,
   "id": "868cb5d7-8407-4f32-93e5-f2bd28a775f1",
   "metadata": {},
   "outputs": [],
   "source": [
    "utils.kNN_class(days_ser, 6)"
   ]
  },
  {
   "cell_type": "markdown",
   "id": "4643704c-ff57-4eea-88c4-1d820b58e53a",
   "metadata": {},
   "source": [
    "It appears that the classifier is most accurate when k = 5. The is an incredibly high accuracy, however I want to see if we can improve the algorithm even more by using a decision tree classifier."
   ]
  },
  {
   "cell_type": "markdown",
   "id": "bf9456fe-9715-41b2-bbed-72642768bfd6",
   "metadata": {},
   "source": [
    "### Decision Tree Classifier"
   ]
  },
  {
   "cell_type": "markdown",
   "id": "ba5640b2-0fb0-4431-ad26-34dabb167da0",
   "metadata": {},
   "source": [
    "I will now run the decision tree classifier with the same splits as kNN, and a random state of 0 for reproducability. I will also show the decision tree."
   ]
  },
  {
   "cell_type": "code",
   "execution_count": null,
   "id": "be62b207-9a61-4838-b347-52637963ad33",
   "metadata": {},
   "outputs": [],
   "source": [
    "utils.tree_classifier(days_ser)"
   ]
  },
  {
   "cell_type": "markdown",
   "id": "c5d59a51-05a7-4ed1-919e-ba8ba1cf5755",
   "metadata": {},
   "source": [
    "The decision tree classifier gives the same accuracy as the kNN classifier with k = 5, which tells me that this is the best accuracy that we can achieve. "
   ]
  },
  {
   "cell_type": "markdown",
   "id": "db59087d-dd02-43d8-acbc-253326688f73",
   "metadata": {},
   "source": [
    "### Problems with Classification\n",
    "The biggest problem I ran into with classification was that the only true numberic value the Spotify gives is the msPlayed column. I then coverted this to sPlayed, but that obviously would't effect classifier results. By changing some of the catagorical data to numeric, I was able to give the classifiers more data to work with."
   ]
  },
  {
   "cell_type": "markdown",
   "id": "11c467f6-67b5-4cef-a347-55cc753009c0",
   "metadata": {},
   "source": [
    "### Conclusion\n",
    "The accuracy of both classifiers surprised me, and therefore my hypothesis was false. Both classifiers were excellent at finding whether the year was 2020 or 2021."
   ]
  },
  {
   "cell_type": "markdown",
   "id": "0055a8b9-4eb7-41f3-9734-e81a2d075aa8",
   "metadata": {},
   "source": [
    "## Conclusion"
   ]
  },
  {
   "cell_type": "markdown",
   "id": "d96d48d4-fab3-4a8b-806f-38ce66bac68d",
   "metadata": {},
   "source": [
    "### Descripition of Data\n",
    "At the end, in addition to my original attributes, I also added:\n",
    "* sPlayed: Amount of seconds of music played per day.\n",
    "* Day_of_Week: The day of the week.\n",
    "* Weekday: Whether the day was a weekday or weekend.\n",
    "* year: Whether the day was was in 2020 or 2021.\n",
    "* month: What month the day was in.\n",
    "* heat: Whether or not the day was in a hot month (I classified hot months as April-September)."
   ]
  },
  {
   "cell_type": "markdown",
   "id": "b5438c7e-7d62-4db6-899c-dce79bc626c4",
   "metadata": {},
   "source": [
    "### Classifiers\n",
    "I decided to use both the kNN classifier and the Decision Tree classifier. Based off of my evaluation of accuracy, both classifiers preformed well."
   ]
  },
  {
   "cell_type": "markdown",
   "id": "a9e1ad0b-535a-4e97-89d3-c4389ca99be5",
   "metadata": {},
   "source": [
    "### Impacts\n",
    "A potential impact this could have is the typical breach in privacy that comes with processing this much data. If a company implements similar things on their clients (they do just more complicated), they can find out a lot of personal things about someone. For me, the impact is just that I don't have much privacy and I can also investigate the data to learn more about myself and some things that I do without even realizing."
   ]
  }
 ],
 "metadata": {
  "kernelspec": {
   "display_name": "Python 3",
   "language": "python",
   "name": "python3"
  },
  "language_info": {
   "codemirror_mode": {
    "name": "ipython",
    "version": 3
   },
   "file_extension": ".py",
   "mimetype": "text/x-python",
   "name": "python",
   "nbconvert_exporter": "python",
   "pygments_lexer": "ipython3",
   "version": "3.8.8"
  }
 },
 "nbformat": 4,
 "nbformat_minor": 5
}
